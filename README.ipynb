{
 "cells": [
  {
   "cell_type": "markdown",
   "id": "a8376078-90e4-408a-8325-8051b1965081",
   "metadata": {},
   "source": [
    "# Hi, I'm Peacock :clap:\n",
    "\n",
    "- :camera: I’m currently working on [CMScom Inc.](https://www.cmscom.jp)\n",
    "    - You can see my resume at [here](content/resume.md)\n",
    "- :seedling: I’m currently learning Python, React, AWS, Docker etc...\n",
    "- :mailbox: How to reach me:\n",
    "    - [contact@peacock0803sz.com](mailto://contact@peacock0803sz.com)\n",
    "    - [Twitter](https://twitter.com/peacock0803sz)\n",
    "    - [Facebook](https://www.facebook.com/peacock0803sz)(Acquaintances only)\n",
    "    - [Instagram](https://www.instagram.com/peacock0803sz/)"
   ]
  },
  {
   "cell_type": "code",
   "execution_count": 1,
   "id": "b162aefe-2e1b-4172-b392-5a0fab587043",
   "metadata": {},
   "outputs": [
    {
     "data": {
      "text/plain": [
       "'macOS-11.3-arm64-arm-64bit'"
      ]
     },
     "execution_count": 1,
     "metadata": {},
     "output_type": "execute_result"
    }
   ],
   "source": [
    "import platform\n",
    "platform.platform()"
   ]
  }
 ],
 "metadata": {
  "kernelspec": {
   "display_name": "Python 3",
   "language": "python",
   "name": "python3"
  },
  "language_info": {
   "codemirror_mode": {
    "name": "ipython",
    "version": 3
   },
   "file_extension": ".py",
   "mimetype": "text/x-python",
   "name": "python",
   "nbconvert_exporter": "python",
   "pygments_lexer": "ipython3",
   "version": "3.9.5"
  }
 },
 "nbformat": 4,
 "nbformat_minor": 5
}
